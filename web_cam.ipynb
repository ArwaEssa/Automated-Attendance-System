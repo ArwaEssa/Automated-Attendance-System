{
 "cells": [
  {
   "cell_type": "markdown",
   "id": "3c6b275b",
   "metadata": {},
   "source": [
    "# Web Cam :"
   ]
  },
  {
   "cell_type": "code",
   "execution_count": null,
   "id": "8302b5be",
   "metadata": {},
   "outputs": [],
   "source": [
    "import tensorflow as tf\n",
    "from tensorflow import keras\n",
    "import numpy as np\n",
    "import cv2\n",
    "from keras.models import load_model\n",
    "import numpy as np\n",
    "import numpy as np \n",
    "import os "
   ]
  },
  {
   "cell_type": "code",
   "execution_count": null,
   "id": "2e8ced5e",
   "metadata": {},
   "outputs": [],
   "source": [
    "facedetect = cv2.CascadeClassifier('haarcascade_frontalface_default.xml')"
   ]
  },
  {
   "cell_type": "code",
   "execution_count": null,
   "id": "1edc1e47",
   "metadata": {},
   "outputs": [],
   "source": [
    "cap=cv2.VideoCapture(0)\n",
    "cap.set(3, 640)\n",
    "cap.set(4, 480)\n",
    "font=cv2.FONT_HERSHEY_COMPLEX"
   ]
  },
  {
   "cell_type": "code",
   "execution_count": null,
   "id": "d6fe7a74",
   "metadata": {},
   "outputs": [],
   "source": [
    "model = load_model('save_model_20_vgg19__11_30am.h5')"
   ]
  },
  {
   "cell_type": "code",
   "execution_count": null,
   "id": "a2cc2936",
   "metadata": {},
   "outputs": [],
   "source": [
    "def get_className(classNo):\n",
    "    path = r'C:\\Users\\user\\Downloads\\archive (13)\\AFDB_face_dataset\\images\\*' \n",
    "\n",
    "    mylist = sorted(os.listdir(path))\n",
    "    if '.DS_Store' in mylist:\n",
    "        mylist.remove('.DS_Store')\n",
    "\n",
    "    myDict = {}\n",
    "    n = 0 \n",
    "    for i in range(len(mylist)):  \n",
    "# Adding list as value\n",
    "        myDict[n] = mylist[i]\n",
    "        n=n+1 \n",
    "        if n ==12:\n",
    "            break\n",
    "    if myDict==0:\n",
    "        return \"aidai\"\n",
    "    elif myDict==1:\n",
    "        return \"anhu\"\n",
    "    elif myDict==2:\n",
    "        return \"axin\"\n",
    "    elif myDict==3:\n",
    "        return \"baibaihe\"\n",
    "    elif myDict==4:\n",
    "        return \"baijingting\"\n",
    "    elif myDict==5:\n",
    "        return \"baike\"\n",
    "    elif myDict==6:\n",
    "        return \"baobeier\"\n",
    "    elif myDict==7:\n",
    "        return \"baojianfeng\"\n",
    "    elif myDict==8:\n",
    "        return \"benxi\"\n",
    "    elif myDict==9:\n",
    "        return \"caiguoqing\"\n",
    "    elif myDict==10:\n",
    "        return \"Dr. Abdullah  Al-Ghamdi\"\n",
    "    elif myDict==11:\n",
    "        return \"Mr.Ali El kassas\"\n",
    "    "
   ]
  },
  {
   "cell_type": "code",
   "execution_count": null,
   "id": "02d314ce",
   "metadata": {},
   "outputs": [],
   "source": [
    " while True:\n",
    "    sucess, imgOrignal=cap.read()\n",
    "    faces = facedetect.detectMultiScale(imgOrignal,1.3,5)\n",
    "    for x,y,w,h in faces:\n",
    "        crop_img=imgOrignal[y:y+h,x:x+h]\n",
    "        img=cv2.resize(crop_img, (128,128))\n",
    "        img=img.reshape(1, 128, 128, 3)\n",
    "        prediction=model.predict(img)\n",
    "        classIndex=np.argmax(prediction,axis=1)\n",
    "        \n",
    "        probabilityValue=np.amax(prediction)\n",
    "        \n",
    "        if classIndex==0:\n",
    "#             cv2.putText(imgOrignal,\"Dr. Abdullah  Al-Ghamdi\", (50, 50), font, 0.75, (255,255,255),1, 2)\n",
    "\n",
    "\n",
    "            cv2.rectangle(imgOrignal,(x,y),(x+w,y+h),(0,255,0),2)\n",
    "#             cv2.rectangle(imgOrignal, (x,y-40),(x+w, y), (0,255,0),-2)\n",
    "            cv2.putText(imgOrignal, str(get_className(classIndex)),(x,y-10), font, 0.75, (255,255,255),1, cv2.LINE_AA)\n",
    "            \n",
    "        elif classIndex==1:\n",
    "#             cv2.putText(imgOrignal,\"Dr.Saad AlQarni\", (50, 50), font, 0.75, (255,255,255),1, 2)\n",
    "            cv2.rectangle(imgOrignal,(x,y),(x+w,y+h),(0,255,0),2)\n",
    "#             cv2.rectangle(imgOrignal, (x,y-40),(x+w, y), (0,255,0),-2)\n",
    "            cv2.putText(imgOrignal, str(get_className(classIndex)),(x,y-10), font, 0.75, (255,255,255),1, cv2.LINE_AA)\n",
    "\n",
    "        elif classIndex==2:\n",
    "#             cv2.putText(imgOrignal,\"Mr.Ali El kassas\", (50, 50), font, 0.75, (255,255,255),1, 2)\n",
    "            cv2.rectangle(imgOrignal,(x,y),(x+w,y+h),(0,255,0),2)\n",
    "#             cv2.rectangle(imgOrignal, (x,y-40),(x+w, y), (0,255,0),-2)\n",
    "            cv2.putText(imgOrignal, str(get_className(classIndex)),(x,y-10), font, 0.75, (255,255,255),1, cv2.LINE_AA)\n",
    "\n",
    "\n",
    "#     cv2.putText(imgOrignal,str(round(probabilityValue*100, 2))+\"%\" ,(180, 75), font, 0.75, (255,0,0),2, cv2.LINE_AA)\n",
    "    cv2.imshow(\"Result\",imgOrignal)\n",
    "    k=cv2.waitKey(1)\n",
    "    if k==ord('q'):\n",
    "        break\n",
    "\n",
    "\n",
    "cap.release()\n",
    "cv2.destroyAllWindows()\n"
   ]
  }
 ],
 "metadata": {
  "kernelspec": {
   "display_name": "Python 3 (ipykernel)",
   "language": "python",
   "name": "python3"
  },
  "language_info": {
   "codemirror_mode": {
    "name": "ipython",
    "version": 3
   },
   "file_extension": ".py",
   "mimetype": "text/x-python",
   "name": "python",
   "nbconvert_exporter": "python",
   "pygments_lexer": "ipython3",
   "version": "3.8.8"
  }
 },
 "nbformat": 4,
 "nbformat_minor": 5
}
