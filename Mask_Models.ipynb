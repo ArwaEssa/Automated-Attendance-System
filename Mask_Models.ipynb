{
  "nbformat": 4,
  "nbformat_minor": 0,
  "metadata": {
    "colab": {
      "name": "Untitled2.ipynb",
      "provenance": [],
      "machine_shape": "hm",
      "background_execution": "on",
      "mount_file_id": "1khs-VWIFBSNRa_5MDYGGMnZbUCP7bpN-",
      "authorship_tag": "ABX9TyPu7sbjgsH3kIkAsJGiwFWs",
      "include_colab_link": true
    },
    "kernelspec": {
      "name": "python3",
      "display_name": "Python 3"
    },
    "language_info": {
      "name": "python"
    },
    "accelerator": "GPU"
  },
  "cells": [
    {
      "cell_type": "markdown",
      "metadata": {
        "id": "view-in-github",
        "colab_type": "text"
      },
      "source": [
        "<a href=\"https://colab.research.google.com/github/ArwaEssa/Automated-Attendance-System/blob/main/Mask_Models.ipynb\" target=\"_parent\"><img src=\"https://colab.research.google.com/assets/colab-badge.svg\" alt=\"Open In Colab\"/></a>"
      ]
    },
    {
      "cell_type": "code",
      "execution_count": 3,
      "metadata": {
        "id": "5kMY1tJzxjwG"
      },
      "outputs": [],
      "source": [
        "import cv2,os\n",
        "import random\n",
        "from tensorflow.keras.optimizers import Adam \n",
        "import numpy as np\n",
        "import tensorflow as tf\n",
        "import matplotlib.pyplot as plt\n",
        "import keras\n",
        "from keras.callbacks import ReduceLROnPlateau\n",
        "from tensorflow.keras import layers\n",
        "import plotly.graph_objects as go\n",
        "from tensorflow.keras.applications import MobileNetV2\n",
        "from sklearn.model_selection import train_test_split\n",
        "from keras.preprocessing.image import ImageDataGenerator\n",
        "from keras.utils.np_utils import to_categorical\n",
        "from keras.models import Sequential\n",
        "from tensorflow.keras.layers import Input\n",
        "from tensorflow.keras.layers import AveragePooling2D\n",
        "from tensorflow.keras.models import Model\n",
        "from keras.applications.vgg16 import VGG16 \n",
        "from keras.applications.vgg19 import VGG19  \n",
        "from tensorflow.keras.applications import mobilenet_v2\n",
        "from sklearn.metrics import confusion_matrix, classification_report\n",
        "from sklearn.linear_model import LogisticRegression\n",
        "from sklearn.metrics import precision_score, recall_score,f1_score, confusion_matrix\n",
        "from keras.layers import Conv2D, Dense, MaxPooling2D, Activation, Dropout, Flatten,InputLayer\n",
        "from tensorflow .keras.preprocessing.image import img_to_array,load_img\n",
        "from tensorflow.keras.applications.mobilenet_v2 import preprocess_input\n",
        "from keras.applications.inception_v3 import InceptionV3\n",
        "from sklearn.metrics import accuracy_score"
      ]
    },
    {
      "cell_type": "markdown",
      "source": [
        "# Uploading the dataset"
      ],
      "metadata": {
        "id": "RjZpSoyixpbU"
      }
    },
    {
      "cell_type": "code",
      "source": [
        "data_path='/content/drive/MyDrive/Face_mask/AFDB_masked_face_dataset'"
      ],
      "metadata": {
        "id": "ZRUIWuGoxqXr"
      },
      "execution_count": 1,
      "outputs": []
    },
    {
      "cell_type": "code",
      "source": [
        "CATEGORIES = os.listdir(data_path)\n",
        "print(CATEGORIES)\n",
        "print(len(CATEGORIES))"
      ],
      "metadata": {
        "colab": {
          "base_uri": "https://localhost:8080/"
        },
        "id": "39C6kOC_xzrE",
        "outputId": "a39bc847-f9ad-4efd-af30-a4d4a4a869de"
      },
      "execution_count": 4,
      "outputs": [
        {
          "output_type": "stream",
          "name": "stdout",
          "text": [
            "['caizhuoyan', 'chenbailin', 'chenhe', 'chenqiaoen', 'chenweiting', 'dengchao', 'dazhangwei', 'fanbingbing', 'dongjie', 'denglun', 'dilireba', 'duhaitao', 'ditianlin', 'gaoyuanyuan', 'gaoyixiang', 'fengjianyu', 'fangzuming', 'guanxiaotong', 'guojingfei', 'hanxue', 'handongjun', 'houminghao', 'huangtingting', 'huangrihua', 'huangjingyu', 'huangxiaoming', 'huanglei', 'huosiyan', 'huojianhua', 'huozun', 'huangzitao', 'huangzongze', 'huge', 'jiangkaitong', 'jiangxin', 'jianghongbo', 'jianailiang', 'jingtian', 'jindong', 'jingbairan', 'jujingyi', 'jinchen', 'jikejuanyi', 'lilianjie', 'lingengxin', 'lidaimo', 'lifeier', 'linzhiling', 'liuchutian', 'linyun', 'liruotong', 'linyoujia', 'linxinru', 'liuhaoran', 'liuxiang', 'liushishi', 'liutao', 'liuyifei', 'liweijia', 'lixiaolu', 'liyifeng', 'liuxiaoqing', 'lizi', 'luyi', 'luchen', 'liyitong', 'masichun', 'masu', 'make', 'maozijun', 'panyueming', 'mowenwei', 'matianyu', 'qinlan', 'qiaoxin', 'pengyuyan']\n",
            "76\n"
          ]
        }
      ]
    },
    {
      "cell_type": "code",
      "source": [
        "training_data = []\n",
        "IMG_SIZE=128\n",
        "def making_trian_dataset():\n",
        "    for category in CATEGORIES:\n",
        "        path = os.path.join(data_path, category) # path to our data\n",
        "        class_num = CATEGORIES.index(category)# classifcation index\n",
        "        for img in os.listdir(path):\n",
        "            try:\n",
        "                img_array = cv2.imread(os.path.join(path,img))\n",
        "                new_array = cv2.resize(img_array, (IMG_SIZE, IMG_SIZE)) # resizing our imgz\n",
        "                training_data.append([new_array, class_num])\n",
        "            except Exception as e:\n",
        "                pass\n",
        "making_trian_dataset()"
      ],
      "metadata": {
        "id": "B9xPOyyw0AvF"
      },
      "execution_count": 5,
      "outputs": []
    },
    {
      "cell_type": "code",
      "source": [
        "print(len(training_data))"
      ],
      "metadata": {
        "colab": {
          "base_uri": "https://localhost:8080/"
        },
        "id": "jlBBN0Xe0A8B",
        "outputId": "359a1ffe-783c-4871-b027-506d56b870ac"
      },
      "execution_count": 6,
      "outputs": [
        {
          "output_type": "stream",
          "name": "stdout",
          "text": [
            "441\n"
          ]
        }
      ]
    },
    {
      "cell_type": "code",
      "source": [
        "random.shuffle(training_data)\n",
        "train_data, labels_data = zip(*training_data)"
      ],
      "metadata": {
        "id": "2NSrG3Cq0A2x"
      },
      "execution_count": 7,
      "outputs": []
    },
    {
      "cell_type": "code",
      "source": [
        "for Sample in training_data[:10]:\n",
        "    print(Sample[1])"
      ],
      "metadata": {
        "colab": {
          "base_uri": "https://localhost:8080/"
        },
        "id": "ljWDRhZc0BCK",
        "outputId": "f9016e69-0152-4f6c-ee39-aed2de4bf4bf"
      },
      "execution_count": 8,
      "outputs": [
        {
          "output_type": "stream",
          "name": "stdout",
          "text": [
            "16\n",
            "21\n",
            "15\n",
            "11\n",
            "4\n",
            "43\n",
            "62\n",
            "21\n",
            "9\n",
            "71\n"
          ]
        }
      ]
    },
    {
      "cell_type": "code",
      "source": [
        "X=[]\n",
        "y=[]\n",
        "for features, label in training_data:\n",
        "    X.append(features)\n",
        "    y.append(label)\n",
        "X = np.array(X)#.reshape(-1, IMG_SIZE,IMG_SIZE,3)\n",
        "y = to_categorical(y, num_classes = 76)"
      ],
      "metadata": {
        "id": "M9iB2aoY0BLH"
      },
      "execution_count": 9,
      "outputs": []
    },
    {
      "cell_type": "code",
      "source": [
        "X.shape,y.shape"
      ],
      "metadata": {
        "colab": {
          "base_uri": "https://localhost:8080/"
        },
        "id": "6j104HB50eq-",
        "outputId": "a308d1e7-021f-4d10-b95a-0a31f167f3d1"
      },
      "execution_count": 10,
      "outputs": [
        {
          "output_type": "execute_result",
          "data": {
            "text/plain": [
              "((441, 128, 128, 3), (441, 76))"
            ]
          },
          "metadata": {},
          "execution_count": 10
        }
      ]
    },
    {
      "cell_type": "code",
      "source": [
        "nsample,nx,ny,ni=X.shape\n",
        "X1=X.reshape(nsample,nx*ny*ni)\n",
        "print(X1.shape)"
      ],
      "metadata": {
        "colab": {
          "base_uri": "https://localhost:8080/"
        },
        "id": "lLbPYddU0eve",
        "outputId": "d5f72f18-4c29-4080-f2da-973345a5736f"
      },
      "execution_count": 11,
      "outputs": [
        {
          "output_type": "stream",
          "name": "stdout",
          "text": [
            "(441, 49152)\n"
          ]
        }
      ]
    },
    {
      "cell_type": "code",
      "source": [
        "X1_train, X1_val_test, y1_train, y1_val_test = train_test_split(X1, y, test_size=.2, random_state=77)\n",
        "X1_val, X1_test, y1_val, y1_test = train_test_split(X1_val_test, y1_val_test, test_size=0.5, random_state=77)\n",
        "print(f\"\\nTraining data: {X1_train.shape},  labels: {y1_train.shape}\")\n",
        "print(f\"Validation data: {X1_val.shape},  labels: {y1_val.shape}\")\n",
        "print(f\"Testing data: {X1_test.shape},  labels: {y1_test.shape}\")"
      ],
      "metadata": {
        "colab": {
          "base_uri": "https://localhost:8080/"
        },
        "id": "uiy_t5SC0ezw",
        "outputId": "0dec72c5-87c7-4d8b-b566-25c3d4ff98ec"
      },
      "execution_count": 12,
      "outputs": [
        {
          "output_type": "stream",
          "name": "stdout",
          "text": [
            "\n",
            "Training data: (352, 49152),  labels: (352, 76)\n",
            "Validation data: (44, 49152),  labels: (44, 76)\n",
            "Testing data: (45, 49152),  labels: (45, 76)\n"
          ]
        }
      ]
    },
    {
      "cell_type": "code",
      "source": [
        "X_train, X_val_test, y_train, y_val_test = train_test_split(X, y, test_size=.2, random_state=77)\n",
        "X_val, X_test, y_val, y_test = train_test_split(X_val_test, y_val_test, test_size=0.5, random_state=77)\n",
        "print(f\"\\nTraining data: {X_train.shape},  labels: {y_train.shape}\")\n",
        "print(f\"Validation data: {X_val.shape},  labels: {y_val.shape}\")\n",
        "print(f\"Testing data: {X_test.shape},  labels: {y_test.shape}\")"
      ],
      "metadata": {
        "colab": {
          "base_uri": "https://localhost:8080/"
        },
        "id": "TJYAEskw1qZr",
        "outputId": "2e0b67e6-479c-4bc7-dae0-0fab7dff76d4"
      },
      "execution_count": 18,
      "outputs": [
        {
          "output_type": "stream",
          "name": "stdout",
          "text": [
            "\n",
            "Training data: (352, 128, 128, 3),  labels: (352, 76)\n",
            "Validation data: (44, 128, 128, 3),  labels: (44, 76)\n",
            "Testing data: (45, 128, 128, 3),  labels: (45, 76)\n"
          ]
        }
      ]
    },
    {
      "cell_type": "code",
      "source": [
        "simple_model = keras.Sequential([\n",
        "    keras.layers.InputLayer(input_shape=X1_train.shape[1:]),\n",
        "    keras.layers.Dense(units=15, activation=\"relu\"),\n",
        "    keras.layers.Dense(units=10, activation='softmax'),\n",
        "    keras.layers.Dense(units=5, activation=\"relu\"),\n",
        "    keras.layers.Dense(units=76, activation='softmax'),\n",
        "\n",
        "])\n",
        "simple_model.compile(\"sgd\", loss=\"categorical_crossentropy\", metrics=[\"accuracy\"])\n",
        "simple_model.summary()"
      ],
      "metadata": {
        "colab": {
          "base_uri": "https://localhost:8080/"
        },
        "id": "CTPOrlqk0e30",
        "outputId": "1d217600-6133-446f-deb6-5cc1f64c81d1"
      },
      "execution_count": 15,
      "outputs": [
        {
          "output_type": "stream",
          "name": "stdout",
          "text": [
            "Model: \"sequential_1\"\n",
            "_________________________________________________________________\n",
            " Layer (type)                Output Shape              Param #   \n",
            "=================================================================\n",
            " dense_4 (Dense)             (None, 15)                737295    \n",
            "                                                                 \n",
            " dense_5 (Dense)             (None, 10)                160       \n",
            "                                                                 \n",
            " dense_6 (Dense)             (None, 5)                 55        \n",
            "                                                                 \n",
            " dense_7 (Dense)             (None, 76)                456       \n",
            "                                                                 \n",
            "=================================================================\n",
            "Total params: 737,966\n",
            "Trainable params: 737,966\n",
            "Non-trainable params: 0\n",
            "_________________________________________________________________\n"
          ]
        }
      ]
    },
    {
      "cell_type": "code",
      "source": [
        "simple_model.fit(X1_train, y1_train,validation_data=(X1_val,y1_val) ,batch_size=64, epochs=15)"
      ],
      "metadata": {
        "colab": {
          "base_uri": "https://localhost:8080/"
        },
        "id": "D5tqSLUb0e7v",
        "outputId": "cdbe1509-49e3-4713-986e-9eea2455e8cb"
      },
      "execution_count": 16,
      "outputs": [
        {
          "output_type": "stream",
          "name": "stdout",
          "text": [
            "Epoch 1/15\n",
            "6/6 [==============================] - 2s 45ms/step - loss: 4.3404 - accuracy: 0.0142 - val_loss: 4.3418 - val_accuracy: 0.0000e+00\n",
            "Epoch 2/15\n",
            "6/6 [==============================] - 0s 8ms/step - loss: 4.3429 - accuracy: 0.0142 - val_loss: 4.3415 - val_accuracy: 0.0000e+00\n",
            "Epoch 3/15\n",
            "6/6 [==============================] - 0s 8ms/step - loss: 4.3423 - accuracy: 0.0142 - val_loss: 4.3414 - val_accuracy: 0.0000e+00\n",
            "Epoch 4/15\n",
            "6/6 [==============================] - 0s 8ms/step - loss: 4.3417 - accuracy: 0.0142 - val_loss: 4.3412 - val_accuracy: 0.0000e+00\n",
            "Epoch 5/15\n",
            "6/6 [==============================] - 0s 8ms/step - loss: 4.3411 - accuracy: 0.0142 - val_loss: 4.3410 - val_accuracy: 0.0000e+00\n",
            "Epoch 6/15\n",
            "6/6 [==============================] - 0s 8ms/step - loss: 4.3405 - accuracy: 0.0142 - val_loss: 4.3409 - val_accuracy: 0.0000e+00\n",
            "Epoch 7/15\n",
            "6/6 [==============================] - 0s 8ms/step - loss: 4.3400 - accuracy: 0.0142 - val_loss: 4.3407 - val_accuracy: 0.0000e+00\n",
            "Epoch 8/15\n",
            "6/6 [==============================] - 0s 8ms/step - loss: 4.3394 - accuracy: 0.0142 - val_loss: 4.3405 - val_accuracy: 0.0000e+00\n",
            "Epoch 9/15\n",
            "6/6 [==============================] - 0s 8ms/step - loss: 4.3389 - accuracy: 0.0142 - val_loss: 4.3404 - val_accuracy: 0.0000e+00\n",
            "Epoch 10/15\n",
            "6/6 [==============================] - 0s 8ms/step - loss: 4.3383 - accuracy: 0.0142 - val_loss: 4.3402 - val_accuracy: 0.0000e+00\n",
            "Epoch 11/15\n",
            "6/6 [==============================] - 0s 9ms/step - loss: 4.3378 - accuracy: 0.0142 - val_loss: 4.3400 - val_accuracy: 0.0000e+00\n",
            "Epoch 12/15\n",
            "6/6 [==============================] - 0s 8ms/step - loss: 4.3372 - accuracy: 0.0142 - val_loss: 4.3398 - val_accuracy: 0.0000e+00\n",
            "Epoch 13/15\n",
            "6/6 [==============================] - 0s 8ms/step - loss: 4.3367 - accuracy: 0.0142 - val_loss: 4.3396 - val_accuracy: 0.0000e+00\n",
            "Epoch 14/15\n",
            "6/6 [==============================] - 0s 8ms/step - loss: 4.3361 - accuracy: 0.0142 - val_loss: 4.3395 - val_accuracy: 0.0000e+00\n",
            "Epoch 15/15\n",
            "6/6 [==============================] - 0s 8ms/step - loss: 4.3356 - accuracy: 0.0142 - val_loss: 4.3394 - val_accuracy: 0.0000e+00\n"
          ]
        },
        {
          "output_type": "execute_result",
          "data": {
            "text/plain": [
              "<keras.callbacks.History at 0x7fe530402990>"
            ]
          },
          "metadata": {},
          "execution_count": 16
        }
      ]
    },
    {
      "cell_type": "code",
      "source": [
        "num_classes=76\n",
        "model_0 = Sequential()\n",
        "\n",
        "model_0.add(InputLayer(input_shape=(128,128,3)))\n",
        "\n",
        "model_0.add(Conv2D(32, 3, activation='relu'))   \n",
        "model_0.add(MaxPooling2D())\n",
        "\n",
        "model_0.add(Conv2D(32, 3, activation='relu'))   \n",
        "model_0.add(MaxPooling2D())\n",
        "\n",
        "model_0.add(Conv2D(32, 3, activation='relu'))  \n",
        "model_0.add(MaxPooling2D())\n",
        "\n",
        "model_0.add(Flatten())\n",
        "model_0.add(Dense(128, activation='relu'))\n",
        "model_0.add(Dense(num_classes , activation = 'softmax'))   \n",
        "\n",
        "model_0.compile(optimizer='adam', \n",
        "                loss=\"categorical_crossentropy\", \n",
        "                metrics=['accuracy'])\n",
        "model_0.summary()"
      ],
      "metadata": {
        "colab": {
          "base_uri": "https://localhost:8080/"
        },
        "id": "62nKgQSw0e-7",
        "outputId": "75d428f5-874c-4ef1-dc2d-f97473de68fb"
      },
      "execution_count": 17,
      "outputs": [
        {
          "output_type": "stream",
          "name": "stdout",
          "text": [
            "Model: \"sequential_2\"\n",
            "_________________________________________________________________\n",
            " Layer (type)                Output Shape              Param #   \n",
            "=================================================================\n",
            " conv2d (Conv2D)             (None, 126, 126, 32)      896       \n",
            "                                                                 \n",
            " max_pooling2d (MaxPooling2D  (None, 63, 63, 32)       0         \n",
            " )                                                               \n",
            "                                                                 \n",
            " conv2d_1 (Conv2D)           (None, 61, 61, 32)        9248      \n",
            "                                                                 \n",
            " max_pooling2d_1 (MaxPooling  (None, 30, 30, 32)       0         \n",
            " 2D)                                                             \n",
            "                                                                 \n",
            " conv2d_2 (Conv2D)           (None, 28, 28, 32)        9248      \n",
            "                                                                 \n",
            " max_pooling2d_2 (MaxPooling  (None, 14, 14, 32)       0         \n",
            " 2D)                                                             \n",
            "                                                                 \n",
            " flatten (Flatten)           (None, 6272)              0         \n",
            "                                                                 \n",
            " dense_8 (Dense)             (None, 128)               802944    \n",
            "                                                                 \n",
            " dense_9 (Dense)             (None, 76)                9804      \n",
            "                                                                 \n",
            "=================================================================\n",
            "Total params: 832,140\n",
            "Trainable params: 832,140\n",
            "Non-trainable params: 0\n",
            "_________________________________________________________________\n"
          ]
        }
      ]
    },
    {
      "cell_type": "code",
      "source": [
        "history_0 = model_0.fit(X_train, y_train, validation_data=(X_val,y_val),epochs=10,batch_size=64)   \n"
      ],
      "metadata": {
        "colab": {
          "base_uri": "https://localhost:8080/"
        },
        "id": "nMHYkoQ30fC3",
        "outputId": "fe8e3cab-b020-4b98-b388-6af8a7a44374"
      },
      "execution_count": 19,
      "outputs": [
        {
          "output_type": "stream",
          "name": "stdout",
          "text": [
            "Epoch 1/10\n",
            "6/6 [==============================] - 8s 75ms/step - loss: 47.1326 - accuracy: 0.0170 - val_loss: 10.4332 - val_accuracy: 0.0000e+00\n",
            "Epoch 2/10\n",
            "6/6 [==============================] - 0s 16ms/step - loss: 6.0223 - accuracy: 0.0312 - val_loss: 4.7098 - val_accuracy: 0.0455\n",
            "Epoch 3/10\n",
            "6/6 [==============================] - 0s 16ms/step - loss: 4.0143 - accuracy: 0.0909 - val_loss: 4.4687 - val_accuracy: 0.0227\n",
            "Epoch 4/10\n",
            "6/6 [==============================] - 0s 16ms/step - loss: 3.5066 - accuracy: 0.2159 - val_loss: 4.5851 - val_accuracy: 0.0682\n",
            "Epoch 5/10\n",
            "6/6 [==============================] - 0s 16ms/step - loss: 2.7393 - accuracy: 0.4261 - val_loss: 4.8721 - val_accuracy: 0.0455\n",
            "Epoch 6/10\n",
            "6/6 [==============================] - 0s 16ms/step - loss: 1.9396 - accuracy: 0.5881 - val_loss: 5.4890 - val_accuracy: 0.1364\n",
            "Epoch 7/10\n",
            "6/6 [==============================] - 0s 16ms/step - loss: 1.2048 - accuracy: 0.7330 - val_loss: 5.3910 - val_accuracy: 0.0909\n",
            "Epoch 8/10\n",
            "6/6 [==============================] - 0s 16ms/step - loss: 0.6005 - accuracy: 0.8807 - val_loss: 5.9966 - val_accuracy: 0.1136\n",
            "Epoch 9/10\n",
            "6/6 [==============================] - 0s 16ms/step - loss: 0.2496 - accuracy: 0.9801 - val_loss: 7.0128 - val_accuracy: 0.1136\n",
            "Epoch 10/10\n",
            "6/6 [==============================] - 0s 16ms/step - loss: 0.0865 - accuracy: 0.9943 - val_loss: 7.9014 - val_accuracy: 0.0909\n"
          ]
        }
      ]
    },
    {
      "cell_type": "code",
      "source": [
        "model_1 = Sequential()\n",
        "\n",
        "model_1.add(InputLayer(input_shape=(128, 128,3)))\n",
        "\n",
        "model_1.add(Conv2D(32, 3, activation='relu'))    \n",
        "model_1.add(MaxPooling2D())\n",
        "\n",
        "model_1.add(Conv2D(64, 3, activation='relu'))   \n",
        "model_1.add(MaxPooling2D())\n",
        "\n",
        "model_1.add(Conv2D(128, 3, activation='relu'))    \n",
        "model_1.add(MaxPooling2D())\n",
        "\n",
        "model_1.add(Flatten())\n",
        "model_1.add(Dense(512, activation='relu')) \n",
        "model_1.add(Dropout(.05))   # replace 0.20\n",
        "model_1.add(Dense(num_classes , activation = 'softmax'))  \n",
        "\n",
        "model_1.compile(optimizer='Adagrad',loss=\"categorical_crossentropy\",metrics=['accuracy'])\n",
        "# model.compile(optimizer = 'adam' , loss = 'categorical_crossentropy' , metrics = ['accuracy'])\n",
        "\n",
        "model_1.summary()"
      ],
      "metadata": {
        "colab": {
          "base_uri": "https://localhost:8080/"
        },
        "id": "Mp867KTG0fID",
        "outputId": "66b23ea7-d41c-41c7-edbd-820d55258445"
      },
      "execution_count": 20,
      "outputs": [
        {
          "output_type": "stream",
          "name": "stdout",
          "text": [
            "Model: \"sequential_3\"\n",
            "_________________________________________________________________\n",
            " Layer (type)                Output Shape              Param #   \n",
            "=================================================================\n",
            " conv2d_3 (Conv2D)           (None, 126, 126, 32)      896       \n",
            "                                                                 \n",
            " max_pooling2d_3 (MaxPooling  (None, 63, 63, 32)       0         \n",
            " 2D)                                                             \n",
            "                                                                 \n",
            " conv2d_4 (Conv2D)           (None, 61, 61, 64)        18496     \n",
            "                                                                 \n",
            " max_pooling2d_4 (MaxPooling  (None, 30, 30, 64)       0         \n",
            " 2D)                                                             \n",
            "                                                                 \n",
            " conv2d_5 (Conv2D)           (None, 28, 28, 128)       73856     \n",
            "                                                                 \n",
            " max_pooling2d_5 (MaxPooling  (None, 14, 14, 128)      0         \n",
            " 2D)                                                             \n",
            "                                                                 \n",
            " flatten_1 (Flatten)         (None, 25088)             0         \n",
            "                                                                 \n",
            " dense_10 (Dense)            (None, 512)               12845568  \n",
            "                                                                 \n",
            " dropout (Dropout)           (None, 512)               0         \n",
            "                                                                 \n",
            " dense_11 (Dense)            (None, 76)                38988     \n",
            "                                                                 \n",
            "=================================================================\n",
            "Total params: 12,977,804\n",
            "Trainable params: 12,977,804\n",
            "Non-trainable params: 0\n",
            "_________________________________________________________________\n"
          ]
        }
      ]
    },
    {
      "cell_type": "code",
      "source": [
        "callbacks=[\n",
        "        keras.callbacks.EarlyStopping(patience=8, verbose=1, restore_best_weights=True),\n",
        "        keras.callbacks.ReduceLROnPlateau(factor=.5, patience=3, verbose=1),\n",
        "    ]\n",
        "history_1=model_1.fit(X_train, y_train, batch_size=64, epochs=30, validation_data=(X_val,y_val), callbacks=[callbacks])"
      ],
      "metadata": {
        "colab": {
          "base_uri": "https://localhost:8080/"
        },
        "id": "BF24_95A0fOg",
        "outputId": "8b5a225c-6042-47c0-b6c6-9811dacc3497"
      },
      "execution_count": 22,
      "outputs": [
        {
          "output_type": "stream",
          "name": "stdout",
          "text": [
            "Epoch 1/30\n",
            "6/6 [==============================] - 0s 38ms/step - loss: 2.3407 - accuracy: 0.4744 - val_loss: 4.4921 - val_accuracy: 0.1364 - lr: 0.0010\n",
            "Epoch 2/30\n",
            "6/6 [==============================] - 0s 27ms/step - loss: 1.9153 - accuracy: 0.5824 - val_loss: 4.3964 - val_accuracy: 0.1818 - lr: 0.0010\n",
            "Epoch 3/30\n",
            "6/6 [==============================] - 0s 22ms/step - loss: 1.4819 - accuracy: 0.7188 - val_loss: 4.5168 - val_accuracy: 0.1364 - lr: 0.0010\n",
            "Epoch 4/30\n",
            "6/6 [==============================] - 0s 22ms/step - loss: 1.1665 - accuracy: 0.8125 - val_loss: 5.0871 - val_accuracy: 0.1136 - lr: 0.0010\n",
            "Epoch 5/30\n",
            "4/6 [===================>..........] - ETA: 0s - loss: 1.1843 - accuracy: 0.7812\n",
            "Epoch 00005: ReduceLROnPlateau reducing learning rate to 0.0005000000237487257.\n",
            "6/6 [==============================] - 0s 22ms/step - loss: 1.0964 - accuracy: 0.8068 - val_loss: 4.5443 - val_accuracy: 0.1364 - lr: 0.0010\n",
            "Epoch 6/30\n",
            "6/6 [==============================] - 0s 26ms/step - loss: 0.6671 - accuracy: 0.9233 - val_loss: 4.3713 - val_accuracy: 0.1364 - lr: 5.0000e-04\n",
            "Epoch 7/30\n",
            "6/6 [==============================] - 0s 22ms/step - loss: 0.5337 - accuracy: 0.9574 - val_loss: 4.4279 - val_accuracy: 0.1364 - lr: 5.0000e-04\n",
            "Epoch 8/30\n",
            "6/6 [==============================] - 0s 22ms/step - loss: 0.4709 - accuracy: 0.9659 - val_loss: 4.4431 - val_accuracy: 0.1364 - lr: 5.0000e-04\n",
            "Epoch 9/30\n",
            "4/6 [===================>..........] - ETA: 0s - loss: 0.4046 - accuracy: 0.9766\n",
            "Epoch 00009: ReduceLROnPlateau reducing learning rate to 0.0002500000118743628.\n",
            "6/6 [==============================] - 0s 22ms/step - loss: 0.3967 - accuracy: 0.9773 - val_loss: 4.4428 - val_accuracy: 0.1136 - lr: 5.0000e-04\n",
            "Epoch 10/30\n",
            "6/6 [==============================] - 0s 21ms/step - loss: 0.3461 - accuracy: 0.9744 - val_loss: 4.4696 - val_accuracy: 0.1364 - lr: 2.5000e-04\n",
            "Epoch 11/30\n",
            "6/6 [==============================] - 0s 21ms/step - loss: 0.3188 - accuracy: 0.9830 - val_loss: 4.4608 - val_accuracy: 0.1136 - lr: 2.5000e-04\n",
            "Epoch 12/30\n",
            "4/6 [===================>..........] - ETA: 0s - loss: 0.2736 - accuracy: 0.9844\n",
            "Epoch 00012: ReduceLROnPlateau reducing learning rate to 0.0001250000059371814.\n",
            "6/6 [==============================] - 0s 22ms/step - loss: 0.2863 - accuracy: 0.9830 - val_loss: 4.4886 - val_accuracy: 0.1136 - lr: 2.5000e-04\n",
            "Epoch 13/30\n",
            "6/6 [==============================] - 0s 22ms/step - loss: 0.2851 - accuracy: 0.9886 - val_loss: 4.4889 - val_accuracy: 0.1136 - lr: 1.2500e-04\n",
            "Epoch 14/30\n",
            "4/6 [===================>..........] - ETA: 0s - loss: 0.2567 - accuracy: 0.9922Restoring model weights from the end of the best epoch: 6.\n",
            "6/6 [==============================] - 0s 24ms/step - loss: 0.2774 - accuracy: 0.9886 - val_loss: 4.4907 - val_accuracy: 0.1136 - lr: 1.2500e-04\n",
            "Epoch 00014: early stopping\n"
          ]
        }
      ]
    },
    {
      "cell_type": "code",
      "source": [
        "model_1_ = Sequential()\n",
        "\n",
        "model_1_.add(InputLayer(input_shape=(128, 128,3)))\n",
        "\n",
        "model_1_.add(Conv2D(32, 3, activation='relu'))   \n",
        "model_1_.add(MaxPooling2D())\n",
        "\n",
        "model_1_.add(Conv2D(64, 3, activation='relu'))   \n",
        "model_1_.add(MaxPooling2D())\n",
        "\n",
        "model_1_.add(Conv2D(128, 3, activation='relu'))    \n",
        "model_1_.add(MaxPooling2D())\n",
        "\n",
        "model_1_.add(Flatten())\n",
        "model_1_.add(Dense(128, activation='relu'))    #512\n",
        "model_1_.add(Dense(num_classes , activation = 'softmax'))  \n",
        "\n",
        "model_1_.compile(optimizer='adam', \n",
        "                loss=\"categorical_crossentropy\", \n",
        "                metrics=['accuracy'])\n",
        "model_1_.summary()"
      ],
      "metadata": {
        "colab": {
          "base_uri": "https://localhost:8080/"
        },
        "id": "N7w5OrMj2JNJ",
        "outputId": "127321da-dd40-49f3-b768-bff59c54aba1"
      },
      "execution_count": 23,
      "outputs": [
        {
          "output_type": "stream",
          "name": "stdout",
          "text": [
            "Model: \"sequential_4\"\n",
            "_________________________________________________________________\n",
            " Layer (type)                Output Shape              Param #   \n",
            "=================================================================\n",
            " conv2d_6 (Conv2D)           (None, 126, 126, 32)      896       \n",
            "                                                                 \n",
            " max_pooling2d_6 (MaxPooling  (None, 63, 63, 32)       0         \n",
            " 2D)                                                             \n",
            "                                                                 \n",
            " conv2d_7 (Conv2D)           (None, 61, 61, 64)        18496     \n",
            "                                                                 \n",
            " max_pooling2d_7 (MaxPooling  (None, 30, 30, 64)       0         \n",
            " 2D)                                                             \n",
            "                                                                 \n",
            " conv2d_8 (Conv2D)           (None, 28, 28, 128)       73856     \n",
            "                                                                 \n",
            " max_pooling2d_8 (MaxPooling  (None, 14, 14, 128)      0         \n",
            " 2D)                                                             \n",
            "                                                                 \n",
            " flatten_2 (Flatten)         (None, 25088)             0         \n",
            "                                                                 \n",
            " dense_12 (Dense)            (None, 128)               3211392   \n",
            "                                                                 \n",
            " dense_13 (Dense)            (None, 76)                9804      \n",
            "                                                                 \n",
            "=================================================================\n",
            "Total params: 3,314,444\n",
            "Trainable params: 3,314,444\n",
            "Non-trainable params: 0\n",
            "_________________________________________________________________\n"
          ]
        }
      ]
    },
    {
      "cell_type": "code",
      "source": [
        "model_1_= model_1_.fit(X_train, y_train, validation_data=(X_val,y_val),epochs=10,batch_size=64)\n"
      ],
      "metadata": {
        "colab": {
          "base_uri": "https://localhost:8080/"
        },
        "id": "MFNyD8Wk2JQU",
        "outputId": "e91582fc-98d6-4698-bcce-d56d3d0fb429"
      },
      "execution_count": 24,
      "outputs": [
        {
          "output_type": "stream",
          "name": "stdout",
          "text": [
            "Epoch 1/10\n",
            "6/6 [==============================] - 1s 56ms/step - loss: 95.6631 - accuracy: 0.0114 - val_loss: 5.6600 - val_accuracy: 0.0227\n",
            "Epoch 2/10\n",
            "6/6 [==============================] - 0s 21ms/step - loss: 5.1467 - accuracy: 0.0227 - val_loss: 4.5124 - val_accuracy: 0.0227\n",
            "Epoch 3/10\n",
            "6/6 [==============================] - 0s 20ms/step - loss: 4.3409 - accuracy: 0.0284 - val_loss: 4.4280 - val_accuracy: 0.0455\n",
            "Epoch 4/10\n",
            "6/6 [==============================] - 0s 20ms/step - loss: 4.2409 - accuracy: 0.0625 - val_loss: 4.5728 - val_accuracy: 0.0227\n",
            "Epoch 5/10\n",
            "6/6 [==============================] - 0s 21ms/step - loss: 4.1446 - accuracy: 0.0597 - val_loss: 4.4179 - val_accuracy: 0.1364\n",
            "Epoch 6/10\n",
            "6/6 [==============================] - 0s 20ms/step - loss: 3.9549 - accuracy: 0.0966 - val_loss: 4.4790 - val_accuracy: 0.0455\n",
            "Epoch 7/10\n",
            "6/6 [==============================] - 0s 20ms/step - loss: 3.6391 - accuracy: 0.1619 - val_loss: 4.6830 - val_accuracy: 0.0682\n",
            "Epoch 8/10\n",
            "6/6 [==============================] - 0s 20ms/step - loss: 3.1767 - accuracy: 0.2727 - val_loss: 4.6074 - val_accuracy: 0.0227\n",
            "Epoch 9/10\n",
            "6/6 [==============================] - 0s 20ms/step - loss: 2.4795 - accuracy: 0.4432 - val_loss: 5.0744 - val_accuracy: 0.0227\n",
            "Epoch 10/10\n",
            "6/6 [==============================] - 0s 20ms/step - loss: 1.7780 - accuracy: 0.5824 - val_loss: 5.3056 - val_accuracy: 0.0455\n"
          ]
        }
      ]
    },
    {
      "cell_type": "code",
      "source": [
        "model_2 = Sequential()\n",
        "\n",
        "model_2.add(InputLayer(input_shape=(128, 128,3)))\n",
        "\n",
        "model_2.add(Conv2D(32, 3, activation='relu',kernel_regularizer=keras.regularizers.l2(0.001)))    \n",
        "model_2.add(MaxPooling2D())\n",
        "\n",
        "model_2.add(Conv2D(64, 3, activation='relu',kernel_regularizer=keras.regularizers.l2(0.001)))   \n",
        "model_2.add(MaxPooling2D())\n",
        "\n",
        "model_2.add(Conv2D(128, 3, activation='relu',kernel_regularizer=keras.regularizers.l2(0.001)))    \n",
        "model_2.add(MaxPooling2D())\n",
        "\n",
        "model_2.add(Flatten())\n",
        "model_2.add(Dense(512, activation='relu',kernel_regularizer=keras.regularizers.l2(0.001)))     \n",
        "model_2.add(Dense(num_classes , activation = 'softmax'))  \n",
        "\n",
        "model_2.compile(optimizer='adam', \n",
        "                loss=\"categorical_crossentropy\", \n",
        "                metrics=['accuracy'])\n",
        "model_2.summary()"
      ],
      "metadata": {
        "colab": {
          "base_uri": "https://localhost:8080/"
        },
        "id": "h02h6WLe2JTR",
        "outputId": "2b496a6e-bb51-48a2-b82e-0ade7e9aa85c"
      },
      "execution_count": 25,
      "outputs": [
        {
          "output_type": "stream",
          "name": "stdout",
          "text": [
            "Model: \"sequential_5\"\n",
            "_________________________________________________________________\n",
            " Layer (type)                Output Shape              Param #   \n",
            "=================================================================\n",
            " conv2d_9 (Conv2D)           (None, 126, 126, 32)      896       \n",
            "                                                                 \n",
            " max_pooling2d_9 (MaxPooling  (None, 63, 63, 32)       0         \n",
            " 2D)                                                             \n",
            "                                                                 \n",
            " conv2d_10 (Conv2D)          (None, 61, 61, 64)        18496     \n",
            "                                                                 \n",
            " max_pooling2d_10 (MaxPoolin  (None, 30, 30, 64)       0         \n",
            " g2D)                                                            \n",
            "                                                                 \n",
            " conv2d_11 (Conv2D)          (None, 28, 28, 128)       73856     \n",
            "                                                                 \n",
            " max_pooling2d_11 (MaxPoolin  (None, 14, 14, 128)      0         \n",
            " g2D)                                                            \n",
            "                                                                 \n",
            " flatten_3 (Flatten)         (None, 25088)             0         \n",
            "                                                                 \n",
            " dense_14 (Dense)            (None, 512)               12845568  \n",
            "                                                                 \n",
            " dense_15 (Dense)            (None, 76)                38988     \n",
            "                                                                 \n",
            "=================================================================\n",
            "Total params: 12,977,804\n",
            "Trainable params: 12,977,804\n",
            "Non-trainable params: 0\n",
            "_________________________________________________________________\n"
          ]
        }
      ]
    },
    {
      "cell_type": "code",
      "source": [
        "model_2.fit(X_train, y_train, validation_data=(X_val,y_val),epochs=10)\n"
      ],
      "metadata": {
        "colab": {
          "base_uri": "https://localhost:8080/"
        },
        "id": "vGlsgP1J2Jpc",
        "outputId": "f09523a1-13c9-468e-efe2-ad99f0e83c32"
      },
      "execution_count": 26,
      "outputs": [
        {
          "output_type": "stream",
          "name": "stdout",
          "text": [
            "Epoch 1/10\n",
            "11/11 [==============================] - 1s 38ms/step - loss: 61.5524 - accuracy: 0.0227 - val_loss: 5.2960 - val_accuracy: 0.0227\n",
            "Epoch 2/10\n",
            "11/11 [==============================] - 0s 15ms/step - loss: 4.6214 - accuracy: 0.1875 - val_loss: 5.6929 - val_accuracy: 0.0682\n",
            "Epoch 3/10\n",
            "11/11 [==============================] - 0s 15ms/step - loss: 3.0366 - accuracy: 0.5710 - val_loss: 6.5739 - val_accuracy: 0.0227\n",
            "Epoch 4/10\n",
            "11/11 [==============================] - 0s 15ms/step - loss: 1.7015 - accuracy: 0.8438 - val_loss: 7.8898 - val_accuracy: 0.1364\n",
            "Epoch 5/10\n",
            "11/11 [==============================] - 0s 15ms/step - loss: 1.3551 - accuracy: 0.9290 - val_loss: 11.4872 - val_accuracy: 0.0000e+00\n",
            "Epoch 6/10\n",
            "11/11 [==============================] - 0s 15ms/step - loss: 1.2701 - accuracy: 0.9602 - val_loss: 11.1708 - val_accuracy: 0.0909\n",
            "Epoch 7/10\n",
            "11/11 [==============================] - 0s 15ms/step - loss: 1.2922 - accuracy: 0.9545 - val_loss: 8.7220 - val_accuracy: 0.0682\n",
            "Epoch 8/10\n",
            "11/11 [==============================] - 0s 15ms/step - loss: 1.1404 - accuracy: 0.9801 - val_loss: 11.7532 - val_accuracy: 0.0682\n",
            "Epoch 9/10\n",
            "11/11 [==============================] - 0s 15ms/step - loss: 1.0674 - accuracy: 0.9972 - val_loss: 11.3414 - val_accuracy: 0.0909\n",
            "Epoch 10/10\n",
            "11/11 [==============================] - 0s 15ms/step - loss: 1.0758 - accuracy: 0.9830 - val_loss: 11.0968 - val_accuracy: 0.0909\n"
          ]
        },
        {
          "output_type": "execute_result",
          "data": {
            "text/plain": [
              "<keras.callbacks.History at 0x7fe4a4440650>"
            ]
          },
          "metadata": {},
          "execution_count": 26
        }
      ]
    },
    {
      "cell_type": "code",
      "source": [
        "model_3 = mobilenet_v2.MobileNetV2(weights='imagenet', include_top=False, input_shape=(128,128,3)) \n",
        " \n",
        "for layer in model_3.layers:\n",
        "    layer.trainable = False    \n",
        "\n",
        "x = model_3.output\n",
        "x = Flatten()(x) \n",
        "x = Dense(100, activation='relu')(x) \n",
        "x = Dense(50, activation='relu')(x)\n",
        "predictions = Dense(76, activation='softmax')(x) \n",
        "\n",
        "model_3 = Model(inputs=model_3.input, outputs=predictions)\n",
        "model_3.compile(optimizer='adam', loss='categorical_crossentropy', metrics=['accuracy'])\n",
        "model_3.summary()"
      ],
      "metadata": {
        "colab": {
          "base_uri": "https://localhost:8080/"
        },
        "id": "ha-RT2my2JsT",
        "outputId": "7ebbcb55-c22e-4990-b4f6-74a0b6107bb6"
      },
      "execution_count": 27,
      "outputs": [
        {
          "output_type": "stream",
          "name": "stdout",
          "text": [
            "Downloading data from https://storage.googleapis.com/tensorflow/keras-applications/mobilenet_v2/mobilenet_v2_weights_tf_dim_ordering_tf_kernels_1.0_128_no_top.h5\n",
            "9412608/9406464 [==============================] - 0s 0us/step\n",
            "9420800/9406464 [==============================] - 0s 0us/step\n",
            "Model: \"model\"\n",
            "__________________________________________________________________________________________________\n",
            " Layer (type)                   Output Shape         Param #     Connected to                     \n",
            "==================================================================================================\n",
            " input_7 (InputLayer)           [(None, 128, 128, 3  0           []                               \n",
            "                                )]                                                                \n",
            "                                                                                                  \n",
            " Conv1 (Conv2D)                 (None, 64, 64, 32)   864         ['input_7[0][0]']                \n",
            "                                                                                                  \n",
            " bn_Conv1 (BatchNormalization)  (None, 64, 64, 32)   128         ['Conv1[0][0]']                  \n",
            "                                                                                                  \n",
            " Conv1_relu (ReLU)              (None, 64, 64, 32)   0           ['bn_Conv1[0][0]']               \n",
            "                                                                                                  \n",
            " expanded_conv_depthwise (Depth  (None, 64, 64, 32)  288         ['Conv1_relu[0][0]']             \n",
            " wiseConv2D)                                                                                      \n",
            "                                                                                                  \n",
            " expanded_conv_depthwise_BN (Ba  (None, 64, 64, 32)  128         ['expanded_conv_depthwise[0][0]']\n",
            " tchNormalization)                                                                                \n",
            "                                                                                                  \n",
            " expanded_conv_depthwise_relu (  (None, 64, 64, 32)  0           ['expanded_conv_depthwise_BN[0][0\n",
            " ReLU)                                                           ]']                              \n",
            "                                                                                                  \n",
            " expanded_conv_project (Conv2D)  (None, 64, 64, 16)  512         ['expanded_conv_depthwise_relu[0]\n",
            "                                                                 [0]']                            \n",
            "                                                                                                  \n",
            " expanded_conv_project_BN (Batc  (None, 64, 64, 16)  64          ['expanded_conv_project[0][0]']  \n",
            " hNormalization)                                                                                  \n",
            "                                                                                                  \n",
            " block_1_expand (Conv2D)        (None, 64, 64, 96)   1536        ['expanded_conv_project_BN[0][0]'\n",
            "                                                                 ]                                \n",
            "                                                                                                  \n",
            " block_1_expand_BN (BatchNormal  (None, 64, 64, 96)  384         ['block_1_expand[0][0]']         \n",
            " ization)                                                                                         \n",
            "                                                                                                  \n",
            " block_1_expand_relu (ReLU)     (None, 64, 64, 96)   0           ['block_1_expand_BN[0][0]']      \n",
            "                                                                                                  \n",
            " block_1_pad (ZeroPadding2D)    (None, 65, 65, 96)   0           ['block_1_expand_relu[0][0]']    \n",
            "                                                                                                  \n",
            " block_1_depthwise (DepthwiseCo  (None, 32, 32, 96)  864         ['block_1_pad[0][0]']            \n",
            " nv2D)                                                                                            \n",
            "                                                                                                  \n",
            " block_1_depthwise_BN (BatchNor  (None, 32, 32, 96)  384         ['block_1_depthwise[0][0]']      \n",
            " malization)                                                                                      \n",
            "                                                                                                  \n",
            " block_1_depthwise_relu (ReLU)  (None, 32, 32, 96)   0           ['block_1_depthwise_BN[0][0]']   \n",
            "                                                                                                  \n",
            " block_1_project (Conv2D)       (None, 32, 32, 24)   2304        ['block_1_depthwise_relu[0][0]'] \n",
            "                                                                                                  \n",
            " block_1_project_BN (BatchNorma  (None, 32, 32, 24)  96          ['block_1_project[0][0]']        \n",
            " lization)                                                                                        \n",
            "                                                                                                  \n",
            " block_2_expand (Conv2D)        (None, 32, 32, 144)  3456        ['block_1_project_BN[0][0]']     \n",
            "                                                                                                  \n",
            " block_2_expand_BN (BatchNormal  (None, 32, 32, 144)  576        ['block_2_expand[0][0]']         \n",
            " ization)                                                                                         \n",
            "                                                                                                  \n",
            " block_2_expand_relu (ReLU)     (None, 32, 32, 144)  0           ['block_2_expand_BN[0][0]']      \n",
            "                                                                                                  \n",
            " block_2_depthwise (DepthwiseCo  (None, 32, 32, 144)  1296       ['block_2_expand_relu[0][0]']    \n",
            " nv2D)                                                                                            \n",
            "                                                                                                  \n",
            " block_2_depthwise_BN (BatchNor  (None, 32, 32, 144)  576        ['block_2_depthwise[0][0]']      \n",
            " malization)                                                                                      \n",
            "                                                                                                  \n",
            " block_2_depthwise_relu (ReLU)  (None, 32, 32, 144)  0           ['block_2_depthwise_BN[0][0]']   \n",
            "                                                                                                  \n",
            " block_2_project (Conv2D)       (None, 32, 32, 24)   3456        ['block_2_depthwise_relu[0][0]'] \n",
            "                                                                                                  \n",
            " block_2_project_BN (BatchNorma  (None, 32, 32, 24)  96          ['block_2_project[0][0]']        \n",
            " lization)                                                                                        \n",
            "                                                                                                  \n",
            " block_2_add (Add)              (None, 32, 32, 24)   0           ['block_1_project_BN[0][0]',     \n",
            "                                                                  'block_2_project_BN[0][0]']     \n",
            "                                                                                                  \n",
            " block_3_expand (Conv2D)        (None, 32, 32, 144)  3456        ['block_2_add[0][0]']            \n",
            "                                                                                                  \n",
            " block_3_expand_BN (BatchNormal  (None, 32, 32, 144)  576        ['block_3_expand[0][0]']         \n",
            " ization)                                                                                         \n",
            "                                                                                                  \n",
            " block_3_expand_relu (ReLU)     (None, 32, 32, 144)  0           ['block_3_expand_BN[0][0]']      \n",
            "                                                                                                  \n",
            " block_3_pad (ZeroPadding2D)    (None, 33, 33, 144)  0           ['block_3_expand_relu[0][0]']    \n",
            "                                                                                                  \n",
            " block_3_depthwise (DepthwiseCo  (None, 16, 16, 144)  1296       ['block_3_pad[0][0]']            \n",
            " nv2D)                                                                                            \n",
            "                                                                                                  \n",
            " block_3_depthwise_BN (BatchNor  (None, 16, 16, 144)  576        ['block_3_depthwise[0][0]']      \n",
            " malization)                                                                                      \n",
            "                                                                                                  \n",
            " block_3_depthwise_relu (ReLU)  (None, 16, 16, 144)  0           ['block_3_depthwise_BN[0][0]']   \n",
            "                                                                                                  \n",
            " block_3_project (Conv2D)       (None, 16, 16, 32)   4608        ['block_3_depthwise_relu[0][0]'] \n",
            "                                                                                                  \n",
            " block_3_project_BN (BatchNorma  (None, 16, 16, 32)  128         ['block_3_project[0][0]']        \n",
            " lization)                                                                                        \n",
            "                                                                                                  \n",
            " block_4_expand (Conv2D)        (None, 16, 16, 192)  6144        ['block_3_project_BN[0][0]']     \n",
            "                                                                                                  \n",
            " block_4_expand_BN (BatchNormal  (None, 16, 16, 192)  768        ['block_4_expand[0][0]']         \n",
            " ization)                                                                                         \n",
            "                                                                                                  \n",
            " block_4_expand_relu (ReLU)     (None, 16, 16, 192)  0           ['block_4_expand_BN[0][0]']      \n",
            "                                                                                                  \n",
            " block_4_depthwise (DepthwiseCo  (None, 16, 16, 192)  1728       ['block_4_expand_relu[0][0]']    \n",
            " nv2D)                                                                                            \n",
            "                                                                                                  \n",
            " block_4_depthwise_BN (BatchNor  (None, 16, 16, 192)  768        ['block_4_depthwise[0][0]']      \n",
            " malization)                                                                                      \n",
            "                                                                                                  \n",
            " block_4_depthwise_relu (ReLU)  (None, 16, 16, 192)  0           ['block_4_depthwise_BN[0][0]']   \n",
            "                                                                                                  \n",
            " block_4_project (Conv2D)       (None, 16, 16, 32)   6144        ['block_4_depthwise_relu[0][0]'] \n",
            "                                                                                                  \n",
            " block_4_project_BN (BatchNorma  (None, 16, 16, 32)  128         ['block_4_project[0][0]']        \n",
            " lization)                                                                                        \n",
            "                                                                                                  \n",
            " block_4_add (Add)              (None, 16, 16, 32)   0           ['block_3_project_BN[0][0]',     \n",
            "                                                                  'block_4_project_BN[0][0]']     \n",
            "                                                                                                  \n",
            " block_5_expand (Conv2D)        (None, 16, 16, 192)  6144        ['block_4_add[0][0]']            \n",
            "                                                                                                  \n",
            " block_5_expand_BN (BatchNormal  (None, 16, 16, 192)  768        ['block_5_expand[0][0]']         \n",
            " ization)                                                                                         \n",
            "                                                                                                  \n",
            " block_5_expand_relu (ReLU)     (None, 16, 16, 192)  0           ['block_5_expand_BN[0][0]']      \n",
            "                                                                                                  \n",
            " block_5_depthwise (DepthwiseCo  (None, 16, 16, 192)  1728       ['block_5_expand_relu[0][0]']    \n",
            " nv2D)                                                                                            \n",
            "                                                                                                  \n",
            " block_5_depthwise_BN (BatchNor  (None, 16, 16, 192)  768        ['block_5_depthwise[0][0]']      \n",
            " malization)                                                                                      \n",
            "                                                                                                  \n",
            " block_5_depthwise_relu (ReLU)  (None, 16, 16, 192)  0           ['block_5_depthwise_BN[0][0]']   \n",
            "                                                                                                  \n",
            " block_5_project (Conv2D)       (None, 16, 16, 32)   6144        ['block_5_depthwise_relu[0][0]'] \n",
            "                                                                                                  \n",
            " block_5_project_BN (BatchNorma  (None, 16, 16, 32)  128         ['block_5_project[0][0]']        \n",
            " lization)                                                                                        \n",
            "                                                                                                  \n",
            " block_5_add (Add)              (None, 16, 16, 32)   0           ['block_4_add[0][0]',            \n",
            "                                                                  'block_5_project_BN[0][0]']     \n",
            "                                                                                                  \n",
            " block_6_expand (Conv2D)        (None, 16, 16, 192)  6144        ['block_5_add[0][0]']            \n",
            "                                                                                                  \n",
            " block_6_expand_BN (BatchNormal  (None, 16, 16, 192)  768        ['block_6_expand[0][0]']         \n",
            " ization)                                                                                         \n",
            "                                                                                                  \n",
            " block_6_expand_relu (ReLU)     (None, 16, 16, 192)  0           ['block_6_expand_BN[0][0]']      \n",
            "                                                                                                  \n",
            " block_6_pad (ZeroPadding2D)    (None, 17, 17, 192)  0           ['block_6_expand_relu[0][0]']    \n",
            "                                                                                                  \n",
            " block_6_depthwise (DepthwiseCo  (None, 8, 8, 192)   1728        ['block_6_pad[0][0]']            \n",
            " nv2D)                                                                                            \n",
            "                                                                                                  \n",
            " block_6_depthwise_BN (BatchNor  (None, 8, 8, 192)   768         ['block_6_depthwise[0][0]']      \n",
            " malization)                                                                                      \n",
            "                                                                                                  \n",
            " block_6_depthwise_relu (ReLU)  (None, 8, 8, 192)    0           ['block_6_depthwise_BN[0][0]']   \n",
            "                                                                                                  \n",
            " block_6_project (Conv2D)       (None, 8, 8, 64)     12288       ['block_6_depthwise_relu[0][0]'] \n",
            "                                                                                                  \n",
            " block_6_project_BN (BatchNorma  (None, 8, 8, 64)    256         ['block_6_project[0][0]']        \n",
            " lization)                                                                                        \n",
            "                                                                                                  \n",
            " block_7_expand (Conv2D)        (None, 8, 8, 384)    24576       ['block_6_project_BN[0][0]']     \n",
            "                                                                                                  \n",
            " block_7_expand_BN (BatchNormal  (None, 8, 8, 384)   1536        ['block_7_expand[0][0]']         \n",
            " ization)                                                                                         \n",
            "                                                                                                  \n",
            " block_7_expand_relu (ReLU)     (None, 8, 8, 384)    0           ['block_7_expand_BN[0][0]']      \n",
            "                                                                                                  \n",
            " block_7_depthwise (DepthwiseCo  (None, 8, 8, 384)   3456        ['block_7_expand_relu[0][0]']    \n",
            " nv2D)                                                                                            \n",
            "                                                                                                  \n",
            " block_7_depthwise_BN (BatchNor  (None, 8, 8, 384)   1536        ['block_7_depthwise[0][0]']      \n",
            " malization)                                                                                      \n",
            "                                                                                                  \n",
            " block_7_depthwise_relu (ReLU)  (None, 8, 8, 384)    0           ['block_7_depthwise_BN[0][0]']   \n",
            "                                                                                                  \n",
            " block_7_project (Conv2D)       (None, 8, 8, 64)     24576       ['block_7_depthwise_relu[0][0]'] \n",
            "                                                                                                  \n",
            " block_7_project_BN (BatchNorma  (None, 8, 8, 64)    256         ['block_7_project[0][0]']        \n",
            " lization)                                                                                        \n",
            "                                                                                                  \n",
            " block_7_add (Add)              (None, 8, 8, 64)     0           ['block_6_project_BN[0][0]',     \n",
            "                                                                  'block_7_project_BN[0][0]']     \n",
            "                                                                                                  \n",
            " block_8_expand (Conv2D)        (None, 8, 8, 384)    24576       ['block_7_add[0][0]']            \n",
            "                                                                                                  \n",
            " block_8_expand_BN (BatchNormal  (None, 8, 8, 384)   1536        ['block_8_expand[0][0]']         \n",
            " ization)                                                                                         \n",
            "                                                                                                  \n",
            " block_8_expand_relu (ReLU)     (None, 8, 8, 384)    0           ['block_8_expand_BN[0][0]']      \n",
            "                                                                                                  \n",
            " block_8_depthwise (DepthwiseCo  (None, 8, 8, 384)   3456        ['block_8_expand_relu[0][0]']    \n",
            " nv2D)                                                                                            \n",
            "                                                                                                  \n",
            " block_8_depthwise_BN (BatchNor  (None, 8, 8, 384)   1536        ['block_8_depthwise[0][0]']      \n",
            " malization)                                                                                      \n",
            "                                                                                                  \n",
            " block_8_depthwise_relu (ReLU)  (None, 8, 8, 384)    0           ['block_8_depthwise_BN[0][0]']   \n",
            "                                                                                                  \n",
            " block_8_project (Conv2D)       (None, 8, 8, 64)     24576       ['block_8_depthwise_relu[0][0]'] \n",
            "                                                                                                  \n",
            " block_8_project_BN (BatchNorma  (None, 8, 8, 64)    256         ['block_8_project[0][0]']        \n",
            " lization)                                                                                        \n",
            "                                                                                                  \n",
            " block_8_add (Add)              (None, 8, 8, 64)     0           ['block_7_add[0][0]',            \n",
            "                                                                  'block_8_project_BN[0][0]']     \n",
            "                                                                                                  \n",
            " block_9_expand (Conv2D)        (None, 8, 8, 384)    24576       ['block_8_add[0][0]']            \n",
            "                                                                                                  \n",
            " block_9_expand_BN (BatchNormal  (None, 8, 8, 384)   1536        ['block_9_expand[0][0]']         \n",
            " ization)                                                                                         \n",
            "                                                                                                  \n",
            " block_9_expand_relu (ReLU)     (None, 8, 8, 384)    0           ['block_9_expand_BN[0][0]']      \n",
            "                                                                                                  \n",
            " block_9_depthwise (DepthwiseCo  (None, 8, 8, 384)   3456        ['block_9_expand_relu[0][0]']    \n",
            " nv2D)                                                                                            \n",
            "                                                                                                  \n",
            " block_9_depthwise_BN (BatchNor  (None, 8, 8, 384)   1536        ['block_9_depthwise[0][0]']      \n",
            " malization)                                                                                      \n",
            "                                                                                                  \n",
            " block_9_depthwise_relu (ReLU)  (None, 8, 8, 384)    0           ['block_9_depthwise_BN[0][0]']   \n",
            "                                                                                                  \n",
            " block_9_project (Conv2D)       (None, 8, 8, 64)     24576       ['block_9_depthwise_relu[0][0]'] \n",
            "                                                                                                  \n",
            " block_9_project_BN (BatchNorma  (None, 8, 8, 64)    256         ['block_9_project[0][0]']        \n",
            " lization)                                                                                        \n",
            "                                                                                                  \n",
            " block_9_add (Add)              (None, 8, 8, 64)     0           ['block_8_add[0][0]',            \n",
            "                                                                  'block_9_project_BN[0][0]']     \n",
            "                                                                                                  \n",
            " block_10_expand (Conv2D)       (None, 8, 8, 384)    24576       ['block_9_add[0][0]']            \n",
            "                                                                                                  \n",
            " block_10_expand_BN (BatchNorma  (None, 8, 8, 384)   1536        ['block_10_expand[0][0]']        \n",
            " lization)                                                                                        \n",
            "                                                                                                  \n",
            " block_10_expand_relu (ReLU)    (None, 8, 8, 384)    0           ['block_10_expand_BN[0][0]']     \n",
            "                                                                                                  \n",
            " block_10_depthwise (DepthwiseC  (None, 8, 8, 384)   3456        ['block_10_expand_relu[0][0]']   \n",
            " onv2D)                                                                                           \n",
            "                                                                                                  \n",
            " block_10_depthwise_BN (BatchNo  (None, 8, 8, 384)   1536        ['block_10_depthwise[0][0]']     \n",
            " rmalization)                                                                                     \n",
            "                                                                                                  \n",
            " block_10_depthwise_relu (ReLU)  (None, 8, 8, 384)   0           ['block_10_depthwise_BN[0][0]']  \n",
            "                                                                                                  \n",
            " block_10_project (Conv2D)      (None, 8, 8, 96)     36864       ['block_10_depthwise_relu[0][0]']\n",
            "                                                                                                  \n",
            " block_10_project_BN (BatchNorm  (None, 8, 8, 96)    384         ['block_10_project[0][0]']       \n",
            " alization)                                                                                       \n",
            "                                                                                                  \n",
            " block_11_expand (Conv2D)       (None, 8, 8, 576)    55296       ['block_10_project_BN[0][0]']    \n",
            "                                                                                                  \n",
            " block_11_expand_BN (BatchNorma  (None, 8, 8, 576)   2304        ['block_11_expand[0][0]']        \n",
            " lization)                                                                                        \n",
            "                                                                                                  \n",
            " block_11_expand_relu (ReLU)    (None, 8, 8, 576)    0           ['block_11_expand_BN[0][0]']     \n",
            "                                                                                                  \n",
            " block_11_depthwise (DepthwiseC  (None, 8, 8, 576)   5184        ['block_11_expand_relu[0][0]']   \n",
            " onv2D)                                                                                           \n",
            "                                                                                                  \n",
            " block_11_depthwise_BN (BatchNo  (None, 8, 8, 576)   2304        ['block_11_depthwise[0][0]']     \n",
            " rmalization)                                                                                     \n",
            "                                                                                                  \n",
            " block_11_depthwise_relu (ReLU)  (None, 8, 8, 576)   0           ['block_11_depthwise_BN[0][0]']  \n",
            "                                                                                                  \n",
            " block_11_project (Conv2D)      (None, 8, 8, 96)     55296       ['block_11_depthwise_relu[0][0]']\n",
            "                                                                                                  \n",
            " block_11_project_BN (BatchNorm  (None, 8, 8, 96)    384         ['block_11_project[0][0]']       \n",
            " alization)                                                                                       \n",
            "                                                                                                  \n",
            " block_11_add (Add)             (None, 8, 8, 96)     0           ['block_10_project_BN[0][0]',    \n",
            "                                                                  'block_11_project_BN[0][0]']    \n",
            "                                                                                                  \n",
            " block_12_expand (Conv2D)       (None, 8, 8, 576)    55296       ['block_11_add[0][0]']           \n",
            "                                                                                                  \n",
            " block_12_expand_BN (BatchNorma  (None, 8, 8, 576)   2304        ['block_12_expand[0][0]']        \n",
            " lization)                                                                                        \n",
            "                                                                                                  \n",
            " block_12_expand_relu (ReLU)    (None, 8, 8, 576)    0           ['block_12_expand_BN[0][0]']     \n",
            "                                                                                                  \n",
            " block_12_depthwise (DepthwiseC  (None, 8, 8, 576)   5184        ['block_12_expand_relu[0][0]']   \n",
            " onv2D)                                                                                           \n",
            "                                                                                                  \n",
            " block_12_depthwise_BN (BatchNo  (None, 8, 8, 576)   2304        ['block_12_depthwise[0][0]']     \n",
            " rmalization)                                                                                     \n",
            "                                                                                                  \n",
            " block_12_depthwise_relu (ReLU)  (None, 8, 8, 576)   0           ['block_12_depthwise_BN[0][0]']  \n",
            "                                                                                                  \n",
            " block_12_project (Conv2D)      (None, 8, 8, 96)     55296       ['block_12_depthwise_relu[0][0]']\n",
            "                                                                                                  \n",
            " block_12_project_BN (BatchNorm  (None, 8, 8, 96)    384         ['block_12_project[0][0]']       \n",
            " alization)                                                                                       \n",
            "                                                                                                  \n",
            " block_12_add (Add)             (None, 8, 8, 96)     0           ['block_11_add[0][0]',           \n",
            "                                                                  'block_12_project_BN[0][0]']    \n",
            "                                                                                                  \n",
            " block_13_expand (Conv2D)       (None, 8, 8, 576)    55296       ['block_12_add[0][0]']           \n",
            "                                                                                                  \n",
            " block_13_expand_BN (BatchNorma  (None, 8, 8, 576)   2304        ['block_13_expand[0][0]']        \n",
            " lization)                                                                                        \n",
            "                                                                                                  \n",
            " block_13_expand_relu (ReLU)    (None, 8, 8, 576)    0           ['block_13_expand_BN[0][0]']     \n",
            "                                                                                                  \n",
            " block_13_pad (ZeroPadding2D)   (None, 9, 9, 576)    0           ['block_13_expand_relu[0][0]']   \n",
            "                                                                                                  \n",
            " block_13_depthwise (DepthwiseC  (None, 4, 4, 576)   5184        ['block_13_pad[0][0]']           \n",
            " onv2D)                                                                                           \n",
            "                                                                                                  \n",
            " block_13_depthwise_BN (BatchNo  (None, 4, 4, 576)   2304        ['block_13_depthwise[0][0]']     \n",
            " rmalization)                                                                                     \n",
            "                                                                                                  \n",
            " block_13_depthwise_relu (ReLU)  (None, 4, 4, 576)   0           ['block_13_depthwise_BN[0][0]']  \n",
            "                                                                                                  \n",
            " block_13_project (Conv2D)      (None, 4, 4, 160)    92160       ['block_13_depthwise_relu[0][0]']\n",
            "                                                                                                  \n",
            " block_13_project_BN (BatchNorm  (None, 4, 4, 160)   640         ['block_13_project[0][0]']       \n",
            " alization)                                                                                       \n",
            "                                                                                                  \n",
            " block_14_expand (Conv2D)       (None, 4, 4, 960)    153600      ['block_13_project_BN[0][0]']    \n",
            "                                                                                                  \n",
            " block_14_expand_BN (BatchNorma  (None, 4, 4, 960)   3840        ['block_14_expand[0][0]']        \n",
            " lization)                                                                                        \n",
            "                                                                                                  \n",
            " block_14_expand_relu (ReLU)    (None, 4, 4, 960)    0           ['block_14_expand_BN[0][0]']     \n",
            "                                                                                                  \n",
            " block_14_depthwise (DepthwiseC  (None, 4, 4, 960)   8640        ['block_14_expand_relu[0][0]']   \n",
            " onv2D)                                                                                           \n",
            "                                                                                                  \n",
            " block_14_depthwise_BN (BatchNo  (None, 4, 4, 960)   3840        ['block_14_depthwise[0][0]']     \n",
            " rmalization)                                                                                     \n",
            "                                                                                                  \n",
            " block_14_depthwise_relu (ReLU)  (None, 4, 4, 960)   0           ['block_14_depthwise_BN[0][0]']  \n",
            "                                                                                                  \n",
            " block_14_project (Conv2D)      (None, 4, 4, 160)    153600      ['block_14_depthwise_relu[0][0]']\n",
            "                                                                                                  \n",
            " block_14_project_BN (BatchNorm  (None, 4, 4, 160)   640         ['block_14_project[0][0]']       \n",
            " alization)                                                                                       \n",
            "                                                                                                  \n",
            " block_14_add (Add)             (None, 4, 4, 160)    0           ['block_13_project_BN[0][0]',    \n",
            "                                                                  'block_14_project_BN[0][0]']    \n",
            "                                                                                                  \n",
            " block_15_expand (Conv2D)       (None, 4, 4, 960)    153600      ['block_14_add[0][0]']           \n",
            "                                                                                                  \n",
            " block_15_expand_BN (BatchNorma  (None, 4, 4, 960)   3840        ['block_15_expand[0][0]']        \n",
            " lization)                                                                                        \n",
            "                                                                                                  \n",
            " block_15_expand_relu (ReLU)    (None, 4, 4, 960)    0           ['block_15_expand_BN[0][0]']     \n",
            "                                                                                                  \n",
            " block_15_depthwise (DepthwiseC  (None, 4, 4, 960)   8640        ['block_15_expand_relu[0][0]']   \n",
            " onv2D)                                                                                           \n",
            "                                                                                                  \n",
            " block_15_depthwise_BN (BatchNo  (None, 4, 4, 960)   3840        ['block_15_depthwise[0][0]']     \n",
            " rmalization)                                                                                     \n",
            "                                                                                                  \n",
            " block_15_depthwise_relu (ReLU)  (None, 4, 4, 960)   0           ['block_15_depthwise_BN[0][0]']  \n",
            "                                                                                                  \n",
            " block_15_project (Conv2D)      (None, 4, 4, 160)    153600      ['block_15_depthwise_relu[0][0]']\n",
            "                                                                                                  \n",
            " block_15_project_BN (BatchNorm  (None, 4, 4, 160)   640         ['block_15_project[0][0]']       \n",
            " alization)                                                                                       \n",
            "                                                                                                  \n",
            " block_15_add (Add)             (None, 4, 4, 160)    0           ['block_14_add[0][0]',           \n",
            "                                                                  'block_15_project_BN[0][0]']    \n",
            "                                                                                                  \n",
            " block_16_expand (Conv2D)       (None, 4, 4, 960)    153600      ['block_15_add[0][0]']           \n",
            "                                                                                                  \n",
            " block_16_expand_BN (BatchNorma  (None, 4, 4, 960)   3840        ['block_16_expand[0][0]']        \n",
            " lization)                                                                                        \n",
            "                                                                                                  \n",
            " block_16_expand_relu (ReLU)    (None, 4, 4, 960)    0           ['block_16_expand_BN[0][0]']     \n",
            "                                                                                                  \n",
            " block_16_depthwise (DepthwiseC  (None, 4, 4, 960)   8640        ['block_16_expand_relu[0][0]']   \n",
            " onv2D)                                                                                           \n",
            "                                                                                                  \n",
            " block_16_depthwise_BN (BatchNo  (None, 4, 4, 960)   3840        ['block_16_depthwise[0][0]']     \n",
            " rmalization)                                                                                     \n",
            "                                                                                                  \n",
            " block_16_depthwise_relu (ReLU)  (None, 4, 4, 960)   0           ['block_16_depthwise_BN[0][0]']  \n",
            "                                                                                                  \n",
            " block_16_project (Conv2D)      (None, 4, 4, 320)    307200      ['block_16_depthwise_relu[0][0]']\n",
            "                                                                                                  \n",
            " block_16_project_BN (BatchNorm  (None, 4, 4, 320)   1280        ['block_16_project[0][0]']       \n",
            " alization)                                                                                       \n",
            "                                                                                                  \n",
            " Conv_1 (Conv2D)                (None, 4, 4, 1280)   409600      ['block_16_project_BN[0][0]']    \n",
            "                                                                                                  \n",
            " Conv_1_bn (BatchNormalization)  (None, 4, 4, 1280)  5120        ['Conv_1[0][0]']                 \n",
            "                                                                                                  \n",
            " out_relu (ReLU)                (None, 4, 4, 1280)   0           ['Conv_1_bn[0][0]']              \n",
            "                                                                                                  \n",
            " flatten_4 (Flatten)            (None, 20480)        0           ['out_relu[0][0]']               \n",
            "                                                                                                  \n",
            " dense_16 (Dense)               (None, 100)          2048100     ['flatten_4[0][0]']              \n",
            "                                                                                                  \n",
            " dense_17 (Dense)               (None, 50)           5050        ['dense_16[0][0]']               \n",
            "                                                                                                  \n",
            " dense_18 (Dense)               (None, 76)           3876        ['dense_17[0][0]']               \n",
            "                                                                                                  \n",
            "==================================================================================================\n",
            "Total params: 4,315,010\n",
            "Trainable params: 2,057,026\n",
            "Non-trainable params: 2,257,984\n",
            "__________________________________________________________________________________________________\n"
          ]
        }
      ]
    },
    {
      "cell_type": "code",
      "source": [
        "model_3.fit(X_train, y_train, validation_data=(X_val,y_val),epochs=10)\n"
      ],
      "metadata": {
        "colab": {
          "base_uri": "https://localhost:8080/"
        },
        "id": "euWBYOH820X_",
        "outputId": "97e1d0fe-70a0-4a56-e371-b72ffc074d88"
      },
      "execution_count": 28,
      "outputs": [
        {
          "output_type": "stream",
          "name": "stdout",
          "text": [
            "Epoch 1/10\n",
            "11/11 [==============================] - 4s 114ms/step - loss: 4.8058 - accuracy: 0.0199 - val_loss: 4.4915 - val_accuracy: 0.0227\n",
            "Epoch 2/10\n",
            "11/11 [==============================] - 0s 17ms/step - loss: 4.2629 - accuracy: 0.0426 - val_loss: 4.5001 - val_accuracy: 0.0455\n",
            "Epoch 3/10\n",
            "11/11 [==============================] - 0s 17ms/step - loss: 4.0264 - accuracy: 0.0653 - val_loss: 4.3054 - val_accuracy: 0.0227\n",
            "Epoch 4/10\n",
            "11/11 [==============================] - 0s 17ms/step - loss: 3.7145 - accuracy: 0.1364 - val_loss: 4.4614 - val_accuracy: 0.0000e+00\n",
            "Epoch 5/10\n",
            "11/11 [==============================] - 0s 17ms/step - loss: 3.4174 - accuracy: 0.1648 - val_loss: 4.5943 - val_accuracy: 0.0227\n",
            "Epoch 6/10\n",
            "11/11 [==============================] - 0s 16ms/step - loss: 3.1040 - accuracy: 0.2500 - val_loss: 4.5573 - val_accuracy: 0.0227\n",
            "Epoch 7/10\n",
            "11/11 [==============================] - 0s 17ms/step - loss: 2.7141 - accuracy: 0.3551 - val_loss: 4.6524 - val_accuracy: 0.0227\n",
            "Epoch 8/10\n",
            "11/11 [==============================] - 0s 16ms/step - loss: 2.3880 - accuracy: 0.4176 - val_loss: 4.6823 - val_accuracy: 0.0682\n",
            "Epoch 9/10\n",
            "11/11 [==============================] - 0s 17ms/step - loss: 2.0094 - accuracy: 0.5455 - val_loss: 4.8975 - val_accuracy: 0.0909\n",
            "Epoch 10/10\n",
            "11/11 [==============================] - 0s 16ms/step - loss: 1.6876 - accuracy: 0.6108 - val_loss: 4.8148 - val_accuracy: 0.0909\n"
          ]
        },
        {
          "output_type": "execute_result",
          "data": {
            "text/plain": [
              "<keras.callbacks.History at 0x7fe49f380050>"
            ]
          },
          "metadata": {},
          "execution_count": 28
        }
      ]
    },
    {
      "cell_type": "code",
      "source": [
        "model_4 = VGG16(weights='imagenet', include_top=False, input_shape=(128, 128, 3))  \n",
        "\n",
        "# Freeze convolutional layers\n",
        "for layer in model_4.layers:\n",
        "    layer.trainable = False  \n",
        "\n",
        "NN_transfer = Sequential(\n",
        "                        [InputLayer(input_shape=(128,128,3)),model_4,\n",
        "                         Flatten(),  # should be fine , or add layers\n",
        "                         Dense(64, activation='relu'),   \n",
        "                         Dense(32, activation='relu'),   # 2 dense is must bcuz VGG16 model Conv2D twice and Maxpooling -> get a lot more features\n",
        "                         Dense(76, activation='softmax')]\n",
        "                       )\n",
        "\n",
        "NN_transfer.compile(loss='categorical_crossentropy',optimizer='adam',metrics=['accuracy'],)\n",
        "model_4.summary()"
      ],
      "metadata": {
        "colab": {
          "base_uri": "https://localhost:8080/"
        },
        "id": "o3waXFjF20fQ",
        "outputId": "9e472f85-20ec-4839-8785-b2e30b867eda"
      },
      "execution_count": 29,
      "outputs": [
        {
          "output_type": "stream",
          "name": "stdout",
          "text": [
            "Downloading data from https://storage.googleapis.com/tensorflow/keras-applications/vgg16/vgg16_weights_tf_dim_ordering_tf_kernels_notop.h5\n",
            "58892288/58889256 [==============================] - 0s 0us/step\n",
            "58900480/58889256 [==============================] - 0s 0us/step\n",
            "Model: \"vgg16\"\n",
            "_________________________________________________________________\n",
            " Layer (type)                Output Shape              Param #   \n",
            "=================================================================\n",
            " input_8 (InputLayer)        [(None, 128, 128, 3)]     0         \n",
            "                                                                 \n",
            " block1_conv1 (Conv2D)       (None, 128, 128, 64)      1792      \n",
            "                                                                 \n",
            " block1_conv2 (Conv2D)       (None, 128, 128, 64)      36928     \n",
            "                                                                 \n",
            " block1_pool (MaxPooling2D)  (None, 64, 64, 64)        0         \n",
            "                                                                 \n",
            " block2_conv1 (Conv2D)       (None, 64, 64, 128)       73856     \n",
            "                                                                 \n",
            " block2_conv2 (Conv2D)       (None, 64, 64, 128)       147584    \n",
            "                                                                 \n",
            " block2_pool (MaxPooling2D)  (None, 32, 32, 128)       0         \n",
            "                                                                 \n",
            " block3_conv1 (Conv2D)       (None, 32, 32, 256)       295168    \n",
            "                                                                 \n",
            " block3_conv2 (Conv2D)       (None, 32, 32, 256)       590080    \n",
            "                                                                 \n",
            " block3_conv3 (Conv2D)       (None, 32, 32, 256)       590080    \n",
            "                                                                 \n",
            " block3_pool (MaxPooling2D)  (None, 16, 16, 256)       0         \n",
            "                                                                 \n",
            " block4_conv1 (Conv2D)       (None, 16, 16, 512)       1180160   \n",
            "                                                                 \n",
            " block4_conv2 (Conv2D)       (None, 16, 16, 512)       2359808   \n",
            "                                                                 \n",
            " block4_conv3 (Conv2D)       (None, 16, 16, 512)       2359808   \n",
            "                                                                 \n",
            " block4_pool (MaxPooling2D)  (None, 8, 8, 512)         0         \n",
            "                                                                 \n",
            " block5_conv1 (Conv2D)       (None, 8, 8, 512)         2359808   \n",
            "                                                                 \n",
            " block5_conv2 (Conv2D)       (None, 8, 8, 512)         2359808   \n",
            "                                                                 \n",
            " block5_conv3 (Conv2D)       (None, 8, 8, 512)         2359808   \n",
            "                                                                 \n",
            " block5_pool (MaxPooling2D)  (None, 4, 4, 512)         0         \n",
            "                                                                 \n",
            "=================================================================\n",
            "Total params: 14,714,688\n",
            "Trainable params: 0\n",
            "Non-trainable params: 14,714,688\n",
            "_________________________________________________________________\n"
          ]
        }
      ]
    },
    {
      "cell_type": "code",
      "source": [
        "result_NN_t = NN_transfer.fit(X_train,y_train, validation_data=(X_val,y_val), epochs=10)\n"
      ],
      "metadata": {
        "colab": {
          "base_uri": "https://localhost:8080/"
        },
        "id": "3TmiCsWT20li",
        "outputId": "dce80c91-c7c4-4c7a-bdc1-ee83996eefcd"
      },
      "execution_count": 30,
      "outputs": [
        {
          "output_type": "stream",
          "name": "stdout",
          "text": [
            "Epoch 1/10\n",
            "11/11 [==============================] - 3s 103ms/step - loss: 9.0381 - accuracy: 0.0085 - val_loss: 4.7249 - val_accuracy: 0.0455\n",
            "Epoch 2/10\n",
            "11/11 [==============================] - 0s 27ms/step - loss: 4.5215 - accuracy: 0.0341 - val_loss: 4.3303 - val_accuracy: 0.0455\n",
            "Epoch 3/10\n",
            "11/11 [==============================] - 0s 27ms/step - loss: 4.2998 - accuracy: 0.0369 - val_loss: 4.3304 - val_accuracy: 0.0455\n",
            "Epoch 4/10\n",
            "11/11 [==============================] - 0s 27ms/step - loss: 4.2372 - accuracy: 0.0312 - val_loss: 4.2863 - val_accuracy: 0.0000e+00\n",
            "Epoch 5/10\n",
            "11/11 [==============================] - 0s 27ms/step - loss: 4.1308 - accuracy: 0.0511 - val_loss: 4.2375 - val_accuracy: 0.0000e+00\n",
            "Epoch 6/10\n",
            "11/11 [==============================] - 0s 27ms/step - loss: 4.0158 - accuracy: 0.0540 - val_loss: 4.2060 - val_accuracy: 0.0455\n",
            "Epoch 7/10\n",
            "11/11 [==============================] - 0s 27ms/step - loss: 3.9222 - accuracy: 0.0966 - val_loss: 4.1648 - val_accuracy: 0.0455\n",
            "Epoch 8/10\n",
            "11/11 [==============================] - 0s 27ms/step - loss: 3.8558 - accuracy: 0.0966 - val_loss: 4.1880 - val_accuracy: 0.0455\n",
            "Epoch 9/10\n",
            "11/11 [==============================] - 0s 27ms/step - loss: 3.7935 - accuracy: 0.1108 - val_loss: 4.1319 - val_accuracy: 0.0455\n",
            "Epoch 10/10\n",
            "11/11 [==============================] - 0s 27ms/step - loss: 3.6525 - accuracy: 0.1250 - val_loss: 4.1355 - val_accuracy: 0.0455\n"
          ]
        }
      ]
    },
    {
      "cell_type": "code",
      "source": [
        ""
      ],
      "metadata": {
        "id": "yKkbmMxw20rS"
      },
      "execution_count": null,
      "outputs": []
    },
    {
      "cell_type": "code",
      "source": [
        ""
      ],
      "metadata": {
        "id": "oPab-WyJ20u_"
      },
      "execution_count": null,
      "outputs": []
    },
    {
      "cell_type": "code",
      "source": [
        ""
      ],
      "metadata": {
        "id": "hjbgC3t-200f"
      },
      "execution_count": null,
      "outputs": []
    },
    {
      "cell_type": "code",
      "source": [
        "from google.colab import drive\n",
        "drive.mount('/content/drive')"
      ],
      "metadata": {
        "id": "eRNcwpQpyyn6"
      },
      "execution_count": null,
      "outputs": []
    },
    {
      "cell_type": "code",
      "source": [
        ""
      ],
      "metadata": {
        "id": "b4PSOWrD2zMP"
      },
      "execution_count": null,
      "outputs": []
    },
    {
      "cell_type": "code",
      "source": [
        ""
      ],
      "metadata": {
        "id": "v_dpIQOB2zXv"
      },
      "execution_count": null,
      "outputs": []
    },
    {
      "cell_type": "code",
      "source": [
        ""
      ],
      "metadata": {
        "id": "PFL8AS7eytEx"
      },
      "execution_count": null,
      "outputs": []
    }
  ]
}